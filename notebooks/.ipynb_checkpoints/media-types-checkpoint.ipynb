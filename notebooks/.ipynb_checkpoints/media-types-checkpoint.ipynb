{
 "cells": [
  {
   "cell_type": "code",
   "execution_count": null,
   "id": "23ed39f8",
   "metadata": {},
   "outputs": [],
   "source": [
    "%pip install requests"
   ]
  },
  {
   "cell_type": "code",
   "execution_count": 7,
   "id": "7d22b5d7",
   "metadata": {},
   "outputs": [],
   "source": [
    "import requests\n",
    "url = 'http://local.test:8001/odis/'\n",
    "\n"
   ]
  },
  {
   "cell_type": "code",
   "execution_count": 8,
   "id": "b10f8579",
   "metadata": {},
   "outputs": [
    {
     "name": "stdout",
     "output_type": "stream",
     "text": [
      "b'{\"wstl\":{\"actions\":[{\"name\":\"self\",\"type\":\"safe\",\"url\":\"http://local.test:8001/odis/\"},{\"name\":\"home\",\"type\":\"safe\",\"url\":\"http://local.test:8001/odis/\"},{\"name\":\"node\",\"type\":\"safe\",\"url\":\"http://local.test:8001/odis/node/\"},{\"name\":\"alps\",\"type\":\"safe\",\"url\":\"http://local.test:8001/odis/alps/\"},{\"name\":\"odis:service\",\"type\":\"safe\",\"url\":\"http://local.test:8001/odis/service/\"},{\"name\":\"odis:owner\",\"type\":\"safe\",\"url\":\"http://local.test:8001/odis/node/owner/\"}],\"title\":\"ODIS - Hello\"}}'\n"
     ]
    }
   ],
   "source": [
    "headers = {'Accept': f'application/json'}\n",
    "        \n",
    "response = requests.get(url, headers=headers)\n",
    "print(response.content)\n"
   ]
  },
  {
   "cell_type": "code",
   "execution_count": 14,
   "id": "239b60c7",
   "metadata": {},
   "outputs": [
    {
     "name": "stdout",
     "output_type": "stream",
     "text": [
      "b'\\n\\n\\n\\n<!DOCTYPE html>\\n<html>\\n  <head>\\n    \\n\\n      \\n        <meta http-equiv=\"Content-Type\" content=\"text/html; charset=utf-8\"/>\\n        <meta name=\"robots\" content=\"NONE,NOARCHIVE\" />\\n      \\n\\n      <tit'\n"
     ]
    }
   ],
   "source": [
    "headers = {'Accept': f'application/api'}\n",
    "        \n",
    "response = requests.get(url, headers=headers)\n",
    "print(response.content[:200])"
   ]
  },
  {
   "cell_type": "code",
   "execution_count": 18,
   "id": "a7399da3",
   "metadata": {},
   "outputs": [
    {
     "name": "stdout",
     "output_type": "stream",
     "text": [
      "b'\\n\\n\\n\\n<!DOCTYPE html>\\n<html>\\n  <head>\\n    \\n\\n      \\n        <meta http-equiv=\"Content-Type\" content=\"text/html; charset=utf-8\"/>\\n        <meta name=\"robots\" content=\"NONE,NOARCHIVE\" />\\n      \\n\\n      <title>Hello \\xe2\\x80\\x93 Django REST framework</title>\\n\\n      \\n        \\n          <link rel=\"stylesheet\" type=\"text/css\" href=\"/static/rest_framework/css/bootstrap.min.css\"/>\\n          <link rel=\"stylesheet\" type=\"text/css\" href=\"/static/rest_framework/css/bootstrap-tweaks.css\"/>\\n        \\n\\n        <link rel=\"stylesheet\" type=\"text/css\" href=\"/static/rest_framework/css/prettify.css\"/>\\n        <link rel=\"stylesheet\" type=\"text/css\" href=\"/static/rest_framework/css/default.css\"/>\\n        \\n      \\n\\n    \\n  </head>\\n\\n  \\n  <body class=\"\">\\n\\n    <div class=\"wrapper\">\\n      \\n        <div class=\"navbar navbar-static-top navbar-inverse\"\\n             role=\"navigation\" aria-label=\"navbar\">\\n          <div class=\"container\">\\n            <span>\\n              \\n                <a class=\\'navbar-brand\\' rel=\"nofollow\" href=\\'https://www.django-rest-framework.org/\\'>\\n                    Django REST framework\\n                </a>\\n              \\n            </span>\\n            <ul class=\"nav navbar-nav pull-right\">\\n              \\n                \\n                  \\n                \\n              \\n            </ul>\\n          </div>\\n        </div>\\n      \\n\\n      <div class=\"container\">\\n        \\n          <ul class=\"breadcrumb\">\\n            \\n              \\n                <li class=\"active\"><a href=\"/odis/\">Hello</a></li>\\n              \\n            \\n          </ul>\\n        \\n\\n        <!-- Content -->\\n        <div id=\"content\" role=\"main\" aria-label=\"content\">\\n          \\n\\n          <div class=\"region\"  aria-label=\"request form\">\\n          \\n\\n          \\n            <form id=\"get-form\" class=\"pull-right\">\\n              <fieldset>\\n                \\n                  <div class=\"btn-group format-selection\">\\n                    <a class=\"btn btn-primary js-tooltip\" href=\"/odis/\" rel=\"nofollow\" title=\"Make a GET request on the Hello resource\">GET</a>\\n\\n                    <button class=\"btn btn-primary dropdown-toggle js-tooltip\" data-toggle=\"dropdown\" title=\"Specify a format for the GET request\">\\n                      <span class=\"caret\"></span>\\n                    </button>\\n                    <ul class=\"dropdown-menu\">\\n                      \\n                        <li>\\n                          <a class=\"js-tooltip format-option\" href=\"/odis/?format=api\" rel=\"nofollow\" title=\"Make a GET request on the Hello resource with the format set to `api`\">api</a>\\n                        </li>\\n                      \\n                        <li>\\n                          <a class=\"js-tooltip format-option\" href=\"/odis/?format=json\" rel=\"nofollow\" title=\"Make a GET request on the Hello resource with the format set to `json`\">json</a>\\n                        </li>\\n                      \\n                        <li>\\n                          <a class=\"js-tooltip format-option\" href=\"/odis/?format=application%2Fvnd.gds-ds\" rel=\"nofollow\" title=\"Make a GET request on the Hello resource with the format set to `application/vnd.gds-ds`\">application/vnd.gds-ds</a>\\n                        </li>\\n                      \\n                    </ul>\\n                  </div>\\n                \\n              </fieldset>\\n            </form>\\n          \\n\\n          \\n            <form class=\"button-form\" action=\"/odis/\" data-method=\"OPTIONS\">\\n              <button class=\"btn btn-primary js-tooltip\" title=\"Make an OPTIONS request on the Hello resource\">OPTIONS</button>\\n            </form>\\n          \\n\\n          \\n\\n          \\n\\n          \\n\\n          \\n          </div>\\n\\n            <div class=\"content-main\" role=\"main\"  aria-label=\"main content\">\\n              <div class=\"page-header\">\\n                <h1>Hello</h1>\\n              </div>\\n              <div style=\"float:left\">\\n                \\n                  <p></p>\\n                \\n              </div>\\n\\n              \\n\\n              <div class=\"request-info\" style=\"clear: both\" aria-label=\"request info\">\\n                <pre class=\"prettyprint\"><b>GET</b> /odis/</pre>\\n              </div>\\n\\n              <div class=\"response-info\" aria-label=\"response info\">\\n                <pre class=\"prettyprint\"><span class=\"meta nocode\"><b>HTTP 406 Not Acceptable</b>\\n<b>Allow:</b> <span class=\"lit\">GET, HEAD, OPTIONS</span>\\n<b>Content-Type:</b> <span class=\"lit\">application/json</span>\\n<b>Vary:</b> <span class=\"lit\">Accept</span>\\n\\n</span>{\\n    &quot;detail&quot;: &quot;Could not satisfy the request Accept header.&quot;\\n}</pre>\\n              </div>\\n            </div>\\n\\n            \\n              \\n\\n              \\n            \\n          \\n        </div><!-- /.content -->\\n      </div><!-- /.container -->\\n    </div><!-- ./wrapper -->\\n\\n    \\n\\n    \\n      <script>\\n        window.drf = {\\n          csrfHeaderName: \"X-CSRFTOKEN\",\\n          csrfToken: \"WHnerv2kppdLtMBXuYt3zgpMY39K3AGYcSL6CCZLhBc2xGTZ0Zylaydn4KY0Vfwd\"\\n        };\\n      </script>\\n      <script src=\"/static/rest_framework/js/jquery-3.5.1.min.js\"></script>\\n      <script src=\"/static/rest_framework/js/ajax-form.js\"></script>\\n      <script src=\"/static/rest_framework/js/csrf.js\"></script>\\n      <script src=\"/static/rest_framework/js/bootstrap.min.js\"></script>\\n      <script src=\"/static/rest_framework/js/prettify-min.js\"></script>\\n      <script src=\"/static/rest_framework/js/default.js\"></script>\\n      <script>\\n        $(document).ready(function() {\\n          $(\\'form\\').ajaxForm();\\n        });\\n      </script>\\n    \\n\\n  </body>\\n  \\n</html>\\n'\n"
     ]
    }
   ],
   "source": [
    "headers = {'Accept': f'application/vnd.gds-ds'}\n",
    "        \n",
    "response = requests.get(url, headers=headers)\n",
    "print(response.headers)"
   ]
  },
  {
   "cell_type": "code",
   "execution_count": null,
   "id": "f5a4d5f9",
   "metadata": {},
   "outputs": [],
   "source": []
  }
 ],
 "metadata": {
  "kernelspec": {
   "display_name": "Python 3 (ipykernel)",
   "language": "python",
   "name": "python3"
  },
  "language_info": {
   "codemirror_mode": {
    "name": "ipython",
    "version": 3
   },
   "file_extension": ".py",
   "mimetype": "text/x-python",
   "name": "python",
   "nbconvert_exporter": "python",
   "pygments_lexer": "ipython3",
   "version": "3.9.10"
  }
 },
 "nbformat": 4,
 "nbformat_minor": 5
}
