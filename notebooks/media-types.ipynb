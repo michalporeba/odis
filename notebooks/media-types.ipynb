{
 "cells": [
  {
   "cell_type": "code",
   "execution_count": null,
   "id": "215ea317",
   "metadata": {},
   "outputs": [],
   "source": [
    "%pip install requests"
   ]
  },
  {
   "cell_type": "code",
   "execution_count": 7,
   "id": "7d22b5d7",
   "metadata": {},
   "outputs": [],
   "source": [
    "import requests\n",
    "url = 'http://local.test:8001/odis/'\n",
    "\n"
   ]
  },
  {
   "cell_type": "code",
   "execution_count": 26,
   "id": "271a634a",
   "metadata": {},
   "outputs": [
    {
     "name": "stdout",
     "output_type": "stream",
     "text": [
      "b'{\"wstl\":{\"actions\":[{\"name\":\"self\",\"type\":\"safe\",\"url\":\"http://local.test:8001/odis/\"},{\"name\":\"home\",\"type\":\"safe\",\"url\":\"http://local.test:8001/odis/\"},{\"name\":\"node\",\"type\":\"safe\",\"url\":\"http://local.test:8001/odis/node/\"},{\"name\":\"alps\",\"type\":\"safe\",\"url\":\"http://local.test:8001/odis/alps/\"},{\"name\":\"odis:service\",\"type\":\"safe\",\"url\":\"http://local.test:8001/odis/service/\"},{\"name\":\"odis:owner\",\"type\":\"safe\",\"url\":\"http://local.test:8001/odis/node/owner/\"}],\"title\":\"ODIS - Hello\"}}'\n"
     ]
    }
   ],
   "source": [
    "headers = {'Accept': f'application/json'}\n",
    "        \n",
    "response = requests.get(url, headers=headers)\n",
    "print(response.content)\n"
   ]
  },
  {
   "cell_type": "code",
   "execution_count": 29,
   "id": "05e1f64e",
   "metadata": {},
   "outputs": [
    {
     "name": "stdout",
     "output_type": "stream",
     "text": [
      "b'\\n\\n\\n\\n<!DOCTYPE html>\\n<html>\\n  <head>\\n    \\n\\n      \\n        <meta http-equiv=\"Content-Type\" content=\"text/html; charset=utf-8\"/>\\n        <meta name=\"robots\" content=\"NONE,NOARCHIVE\" />\\n      \\n\\n      <tit'\n"
     ]
    }
   ],
   "source": [
    "headers = {'Accept': f'text/html'}\n",
    "        \n",
    "response = requests.get(url+'?format=api', headers=headers)\n",
    "print(response.content)"
   ]
  },
  {
   "cell_type": "code",
   "execution_count": 34,
   "id": "d240af7b",
   "metadata": {},
   "outputs": [
    {
     "name": "stdout",
     "output_type": "stream",
     "text": [
      "b'\\n\\n\\n<!DOCTYPE html>\\n<html>\\n  <head>\\n    \\n\\n      \\n        <meta http-equiv=\"Content-Type\" content=\"text/html; charset=utf-8\"/>\\n        <meta name=\"robots\" content=\"NONE,NOARCHIVE\" />\\n      \\n\\n      <title>Django REST framework</title>\\n\\n      \\n        \\n      \\n\\n    \\n  </head>\\n\\n  \\n    <body><h1>Just testing</h1></body>\\n  \\n</html>'\n"
     ]
    }
   ],
   "source": [
    "headers = {'Accept': f'text/dhtml'}\n",
    "        \n",
    "response = requests.get(url, headers=headers)\n",
    "print(response.content)"
   ]
  },
  {
   "cell_type": "code",
   "execution_count": null,
   "id": "fa8316da",
   "metadata": {},
   "outputs": [],
   "source": []
  },
  {
   "cell_type": "code",
   "execution_count": null,
   "id": "bb090469",
   "metadata": {},
   "outputs": [],
   "source": []
  }
 ],
 "metadata": {
  "kernelspec": {
   "display_name": "Python 3 (ipykernel)",
   "language": "python",
   "name": "python3"
  },
  "language_info": {
   "codemirror_mode": {
    "name": "ipython",
    "version": 3
   },
   "file_extension": ".py",
   "mimetype": "text/x-python",
   "name": "python",
   "nbconvert_exporter": "python",
   "pygments_lexer": "ipython3",
   "version": "3.9.10"
  }
 },
 "nbformat": 4,
 "nbformat_minor": 5
}
